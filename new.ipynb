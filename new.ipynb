{
 "cells": [
  {
   "cell_type": "code",
   "execution_count": 1,
   "metadata": {},
   "outputs": [],
   "source": [
    "import numpy as np\n",
    "import pandas as pd\n",
    "import sklearn.preprocessing \n",
    "import matplotlib.pyplot as plt\n",
    "import seaborn as sns\n",
    "%matplotlib inline\n",
    "sns.set()"
   ]
  },
  {
   "cell_type": "code",
   "execution_count": 2,
   "metadata": {},
   "outputs": [],
   "source": [
    "data=pd.read_csv('data.csv')"
   ]
  },
  {
   "cell_type": "code",
   "execution_count": 3,
   "metadata": {},
   "outputs": [],
   "source": [
    "df=data.copy()"
   ]
  },
  {
   "cell_type": "code",
   "execution_count": 4,
   "metadata": {},
   "outputs": [
    {
     "data": {
      "text/html": [
       "<div>\n",
       "<style scoped>\n",
       "    .dataframe tbody tr th:only-of-type {\n",
       "        vertical-align: middle;\n",
       "    }\n",
       "\n",
       "    .dataframe tbody tr th {\n",
       "        vertical-align: top;\n",
       "    }\n",
       "\n",
       "    .dataframe thead th {\n",
       "        text-align: right;\n",
       "    }\n",
       "</style>\n",
       "<table border=\"1\" class=\"dataframe\">\n",
       "  <thead>\n",
       "    <tr style=\"text-align: right;\">\n",
       "      <th></th>\n",
       "      <th>Mean RR*</th>\n",
       "      <th>STD RR (SDNN)</th>\n",
       "      <th>Mean HR*</th>\n",
       "      <th>Min HR</th>\n",
       "      <th>RMSSD</th>\n",
       "      <th>NNxx</th>\n",
       "      <th>pNNxx</th>\n",
       "      <th>HRV triangular index</th>\n",
       "      <th>TINN</th>\n",
       "      <th>Poincare plot, SD1</th>\n",
       "      <th>Poincare plot, SD2</th>\n",
       "      <th>FFT Power (ms2)</th>\n",
       "      <th>FFT Power (log)</th>\n",
       "      <th>AR Power (ms2)</th>\n",
       "      <th>AR Power (log)</th>\n",
       "      <th>FFT Power (ms2).1</th>\n",
       "      <th>FFT Power (log).1</th>\n",
       "      <th>AR Power (ms2).1</th>\n",
       "      <th>AR Power (log).1</th>\n",
       "      <th>Class</th>\n",
       "    </tr>\n",
       "  </thead>\n",
       "  <tbody>\n",
       "    <tr>\n",
       "      <td>0</td>\n",
       "      <td>711.63</td>\n",
       "      <td>37.729</td>\n",
       "      <td>84.314</td>\n",
       "      <td>68.650</td>\n",
       "      <td>26.4880</td>\n",
       "      <td>166</td>\n",
       "      <td>9.464100</td>\n",
       "      <td>12.8100</td>\n",
       "      <td>187</td>\n",
       "      <td>9.0405</td>\n",
       "      <td>28.248</td>\n",
       "      <td>268.18</td>\n",
       "      <td>5.5917</td>\n",
       "      <td>289.26</td>\n",
       "      <td>5.6673</td>\n",
       "      <td>53.782</td>\n",
       "      <td>3.9849</td>\n",
       "      <td>56.074</td>\n",
       "      <td>4.0267</td>\n",
       "      <td>0</td>\n",
       "    </tr>\n",
       "    <tr>\n",
       "      <td>1</td>\n",
       "      <td>777.13</td>\n",
       "      <td>12.742</td>\n",
       "      <td>77.207</td>\n",
       "      <td>65.502</td>\n",
       "      <td>8.7235</td>\n",
       "      <td>1</td>\n",
       "      <td>0.062267</td>\n",
       "      <td>4.3668</td>\n",
       "      <td>70</td>\n",
       "      <td>6.1704</td>\n",
       "      <td>16.934</td>\n",
       "      <td>101.23</td>\n",
       "      <td>4.6174</td>\n",
       "      <td>101.64</td>\n",
       "      <td>4.6215</td>\n",
       "      <td>23.747</td>\n",
       "      <td>3.1674</td>\n",
       "      <td>22.940</td>\n",
       "      <td>3.1329</td>\n",
       "      <td>0</td>\n",
       "    </tr>\n",
       "    <tr>\n",
       "      <td>2</td>\n",
       "      <td>620.35</td>\n",
       "      <td>21.315</td>\n",
       "      <td>96.720</td>\n",
       "      <td>80.000</td>\n",
       "      <td>17.4290</td>\n",
       "      <td>30</td>\n",
       "      <td>1.684400</td>\n",
       "      <td>5.3036</td>\n",
       "      <td>194</td>\n",
       "      <td>7.9726</td>\n",
       "      <td>20.423</td>\n",
       "      <td>169.02</td>\n",
       "      <td>5.1300</td>\n",
       "      <td>181.95</td>\n",
       "      <td>5.2037</td>\n",
       "      <td>114.770</td>\n",
       "      <td>4.7429</td>\n",
       "      <td>167.440</td>\n",
       "      <td>5.1206</td>\n",
       "      <td>0</td>\n",
       "    </tr>\n",
       "    <tr>\n",
       "      <td>3</td>\n",
       "      <td>792.12</td>\n",
       "      <td>36.751</td>\n",
       "      <td>75.746</td>\n",
       "      <td>56.604</td>\n",
       "      <td>23.6630</td>\n",
       "      <td>113</td>\n",
       "      <td>7.266900</td>\n",
       "      <td>11.7880</td>\n",
       "      <td>200</td>\n",
       "      <td>16.7380</td>\n",
       "      <td>49.142</td>\n",
       "      <td>900.60</td>\n",
       "      <td>6.8031</td>\n",
       "      <td>862.01</td>\n",
       "      <td>6.7593</td>\n",
       "      <td>157.190</td>\n",
       "      <td>5.0574</td>\n",
       "      <td>156.600</td>\n",
       "      <td>5.0537</td>\n",
       "      <td>0</td>\n",
       "    </tr>\n",
       "    <tr>\n",
       "      <td>4</td>\n",
       "      <td>672.65</td>\n",
       "      <td>39.062</td>\n",
       "      <td>89.199</td>\n",
       "      <td>71.090</td>\n",
       "      <td>21.7000</td>\n",
       "      <td>100</td>\n",
       "      <td>5.546300</td>\n",
       "      <td>10.8670</td>\n",
       "      <td>239</td>\n",
       "      <td>15.3490</td>\n",
       "      <td>53.069</td>\n",
       "      <td>1115.30</td>\n",
       "      <td>7.0169</td>\n",
       "      <td>1111.80</td>\n",
       "      <td>7.0137</td>\n",
       "      <td>130.210</td>\n",
       "      <td>4.8692</td>\n",
       "      <td>134.590</td>\n",
       "      <td>4.9023</td>\n",
       "      <td>0</td>\n",
       "    </tr>\n",
       "  </tbody>\n",
       "</table>\n",
       "</div>"
      ],
      "text/plain": [
       "   Mean RR*  STD RR (SDNN)  Mean HR*  Min HR    RMSSD  NNxx     pNNxx  \\\n",
       "0    711.63         37.729    84.314  68.650  26.4880   166  9.464100   \n",
       "1    777.13         12.742    77.207  65.502   8.7235     1  0.062267   \n",
       "2    620.35         21.315    96.720  80.000  17.4290    30  1.684400   \n",
       "3    792.12         36.751    75.746  56.604  23.6630   113  7.266900   \n",
       "4    672.65         39.062    89.199  71.090  21.7000   100  5.546300   \n",
       "\n",
       "   HRV triangular index  TINN  Poincare plot, SD1  Poincare plot, SD2  \\\n",
       "0               12.8100   187              9.0405              28.248   \n",
       "1                4.3668    70              6.1704              16.934   \n",
       "2                5.3036   194              7.9726              20.423   \n",
       "3               11.7880   200             16.7380              49.142   \n",
       "4               10.8670   239             15.3490              53.069   \n",
       "\n",
       "   FFT Power (ms2)  FFT Power (log)  AR Power (ms2)  AR Power (log)  \\\n",
       "0           268.18           5.5917          289.26          5.6673   \n",
       "1           101.23           4.6174          101.64          4.6215   \n",
       "2           169.02           5.1300          181.95          5.2037   \n",
       "3           900.60           6.8031          862.01          6.7593   \n",
       "4          1115.30           7.0169         1111.80          7.0137   \n",
       "\n",
       "   FFT Power (ms2).1  FFT Power (log).1  AR Power (ms2).1  AR Power (log).1  \\\n",
       "0             53.782             3.9849            56.074            4.0267   \n",
       "1             23.747             3.1674            22.940            3.1329   \n",
       "2            114.770             4.7429           167.440            5.1206   \n",
       "3            157.190             5.0574           156.600            5.0537   \n",
       "4            130.210             4.8692           134.590            4.9023   \n",
       "\n",
       "   Class  \n",
       "0      0  \n",
       "1      0  \n",
       "2      0  \n",
       "3      0  \n",
       "4      0  "
      ]
     },
     "execution_count": 4,
     "metadata": {},
     "output_type": "execute_result"
    }
   ],
   "source": [
    "df.head()"
   ]
  },
  {
   "cell_type": "code",
   "execution_count": 5,
   "metadata": {},
   "outputs": [
    {
     "data": {
      "text/plain": [
       "1    31\n",
       "0    31\n",
       "Name: Class, dtype: int64"
      ]
     },
     "execution_count": 5,
     "metadata": {},
     "output_type": "execute_result"
    }
   ],
   "source": [
    "df['Class'].value_counts()"
   ]
  },
  {
   "cell_type": "code",
   "execution_count": 6,
   "metadata": {},
   "outputs": [
    {
     "data": {
      "text/plain": [
       "Mean RR*                0\n",
       "STD RR (SDNN)           0\n",
       "Mean HR*                0\n",
       "Min HR                  0\n",
       "RMSSD                   0\n",
       "NNxx                    0\n",
       "pNNxx                   0\n",
       "HRV triangular index    0\n",
       "TINN                    0\n",
       "Poincare plot, SD1      0\n",
       "Poincare plot, SD2      0\n",
       "FFT Power (ms2)         0\n",
       "FFT Power (log)         0\n",
       "AR Power (ms2)          0\n",
       "AR Power (log)          0\n",
       "FFT Power (ms2).1       0\n",
       "FFT Power (log).1       0\n",
       "AR Power (ms2).1        0\n",
       "AR Power (log).1        0\n",
       "Class                   0\n",
       "dtype: int64"
      ]
     },
     "execution_count": 6,
     "metadata": {},
     "output_type": "execute_result"
    }
   ],
   "source": [
    "df.isnull().sum()"
   ]
  },
  {
   "cell_type": "code",
   "execution_count": 7,
   "metadata": {},
   "outputs": [
    {
     "name": "stdout",
     "output_type": "stream",
     "text": [
      "(62, 19)\n",
      "(62, 1)\n"
     ]
    }
   ],
   "source": [
    "X = df.drop(['Class'], axis=1)\n",
    "Y = df[['Class']]\n",
    "print(X.shape)\n",
    "print(Y.shape)"
   ]
  },
  {
   "cell_type": "code",
   "execution_count": 8,
   "metadata": {},
   "outputs": [],
   "source": [
    "from sklearn.model_selection import train_test_split"
   ]
  },
  {
   "cell_type": "code",
   "execution_count": 117,
   "metadata": {},
   "outputs": [
    {
     "name": "stdout",
     "output_type": "stream",
     "text": [
      "(43, 19) (43, 1)\n",
      "(19, 19) (19, 1)\n"
     ]
    }
   ],
   "source": [
    "xtrain, xtest, ytrain, ytest =  train_test_split(X, Y, test_size=0.30,random_state=25, shuffle=True)\n",
    "print(xtrain.shape, ytrain.shape)\n",
    "print(xtest.shape, ytest.shape)"
   ]
  },
  {
   "cell_type": "code",
   "execution_count": 118,
   "metadata": {},
   "outputs": [
    {
     "data": {
      "text/html": [
       "<div>\n",
       "<style scoped>\n",
       "    .dataframe tbody tr th:only-of-type {\n",
       "        vertical-align: middle;\n",
       "    }\n",
       "\n",
       "    .dataframe tbody tr th {\n",
       "        vertical-align: top;\n",
       "    }\n",
       "\n",
       "    .dataframe thead th {\n",
       "        text-align: right;\n",
       "    }\n",
       "</style>\n",
       "<table border=\"1\" class=\"dataframe\">\n",
       "  <thead>\n",
       "    <tr style=\"text-align: right;\">\n",
       "      <th></th>\n",
       "      <th>Mean RR*</th>\n",
       "      <th>STD RR (SDNN)</th>\n",
       "      <th>Mean HR*</th>\n",
       "      <th>Min HR</th>\n",
       "      <th>RMSSD</th>\n",
       "      <th>NNxx</th>\n",
       "      <th>pNNxx</th>\n",
       "      <th>HRV triangular index</th>\n",
       "      <th>TINN</th>\n",
       "      <th>Poincare plot, SD1</th>\n",
       "      <th>Poincare plot, SD2</th>\n",
       "      <th>FFT Power (ms2)</th>\n",
       "      <th>FFT Power (log)</th>\n",
       "      <th>AR Power (ms2)</th>\n",
       "      <th>AR Power (log)</th>\n",
       "      <th>FFT Power (ms2).1</th>\n",
       "      <th>FFT Power (log).1</th>\n",
       "      <th>AR Power (ms2).1</th>\n",
       "      <th>AR Power (log).1</th>\n",
       "    </tr>\n",
       "  </thead>\n",
       "  <tbody>\n",
       "    <tr>\n",
       "      <td>0</td>\n",
       "      <td>0.401256</td>\n",
       "      <td>0.653810</td>\n",
       "      <td>0.470787</td>\n",
       "      <td>0.416693</td>\n",
       "      <td>0.737792</td>\n",
       "      <td>1.000000</td>\n",
       "      <td>0.918450</td>\n",
       "      <td>0.807649</td>\n",
       "      <td>0.517699</td>\n",
       "      <td>0.239429</td>\n",
       "      <td>0.238950</td>\n",
       "      <td>0.132235</td>\n",
       "      <td>0.500822</td>\n",
       "      <td>0.165557</td>\n",
       "      <td>0.512768</td>\n",
       "      <td>0.127212</td>\n",
       "      <td>0.496554</td>\n",
       "      <td>0.131694</td>\n",
       "      <td>0.464713</td>\n",
       "    </tr>\n",
       "    <tr>\n",
       "      <td>1</td>\n",
       "      <td>0.574075</td>\n",
       "      <td>0.029603</td>\n",
       "      <td>0.306660</td>\n",
       "      <td>0.340000</td>\n",
       "      <td>0.091925</td>\n",
       "      <td>0.000000</td>\n",
       "      <td>0.001211</td>\n",
       "      <td>0.106113</td>\n",
       "      <td>0.000000</td>\n",
       "      <td>0.091920</td>\n",
       "      <td>0.029719</td>\n",
       "      <td>0.035240</td>\n",
       "      <td>0.242456</td>\n",
       "      <td>0.034835</td>\n",
       "      <td>0.201518</td>\n",
       "      <td>0.043601</td>\n",
       "      <td>0.282342</td>\n",
       "      <td>0.033964</td>\n",
       "      <td>0.203628</td>\n",
       "    </tr>\n",
       "    <tr>\n",
       "      <td>2</td>\n",
       "      <td>0.160418</td>\n",
       "      <td>0.243767</td>\n",
       "      <td>0.757286</td>\n",
       "      <td>0.693205</td>\n",
       "      <td>0.408433</td>\n",
       "      <td>0.175758</td>\n",
       "      <td>0.159466</td>\n",
       "      <td>0.183951</td>\n",
       "      <td>0.548673</td>\n",
       "      <td>0.184544</td>\n",
       "      <td>0.094241</td>\n",
       "      <td>0.074625</td>\n",
       "      <td>0.378388</td>\n",
       "      <td>0.090790</td>\n",
       "      <td>0.374792</td>\n",
       "      <td>0.296988</td>\n",
       "      <td>0.695176</td>\n",
       "      <td>0.460174</td>\n",
       "      <td>0.784250</td>\n",
       "    </tr>\n",
       "    <tr>\n",
       "      <td>3</td>\n",
       "      <td>0.613625</td>\n",
       "      <td>0.629378</td>\n",
       "      <td>0.272920</td>\n",
       "      <td>0.123225</td>\n",
       "      <td>0.635083</td>\n",
       "      <td>0.678788</td>\n",
       "      <td>0.704092</td>\n",
       "      <td>0.722732</td>\n",
       "      <td>0.575221</td>\n",
       "      <td>0.635043</td>\n",
       "      <td>0.625347</td>\n",
       "      <td>0.499659</td>\n",
       "      <td>0.822063</td>\n",
       "      <td>0.564615</td>\n",
       "      <td>0.837768</td>\n",
       "      <td>0.415075</td>\n",
       "      <td>0.777586</td>\n",
       "      <td>0.428201</td>\n",
       "      <td>0.764708</td>\n",
       "    </tr>\n",
       "    <tr>\n",
       "      <td>4</td>\n",
       "      <td>0.298409</td>\n",
       "      <td>0.687110</td>\n",
       "      <td>0.583599</td>\n",
       "      <td>0.476137</td>\n",
       "      <td>0.563714</td>\n",
       "      <td>0.600000</td>\n",
       "      <td>0.536231</td>\n",
       "      <td>0.646207</td>\n",
       "      <td>0.747788</td>\n",
       "      <td>0.563655</td>\n",
       "      <td>0.697969</td>\n",
       "      <td>0.624396</td>\n",
       "      <td>0.878759</td>\n",
       "      <td>0.738653</td>\n",
       "      <td>0.913482</td>\n",
       "      <td>0.339969</td>\n",
       "      <td>0.728271</td>\n",
       "      <td>0.363281</td>\n",
       "      <td>0.720483</td>\n",
       "    </tr>\n",
       "  </tbody>\n",
       "</table>\n",
       "</div>"
      ],
      "text/plain": [
       "   Mean RR*  STD RR (SDNN)  Mean HR*    Min HR     RMSSD      NNxx     pNNxx  \\\n",
       "0  0.401256       0.653810  0.470787  0.416693  0.737792  1.000000  0.918450   \n",
       "1  0.574075       0.029603  0.306660  0.340000  0.091925  0.000000  0.001211   \n",
       "2  0.160418       0.243767  0.757286  0.693205  0.408433  0.175758  0.159466   \n",
       "3  0.613625       0.629378  0.272920  0.123225  0.635083  0.678788  0.704092   \n",
       "4  0.298409       0.687110  0.583599  0.476137  0.563714  0.600000  0.536231   \n",
       "\n",
       "   HRV triangular index      TINN  Poincare plot, SD1  Poincare plot, SD2  \\\n",
       "0              0.807649  0.517699            0.239429            0.238950   \n",
       "1              0.106113  0.000000            0.091920            0.029719   \n",
       "2              0.183951  0.548673            0.184544            0.094241   \n",
       "3              0.722732  0.575221            0.635043            0.625347   \n",
       "4              0.646207  0.747788            0.563655            0.697969   \n",
       "\n",
       "   FFT Power (ms2)  FFT Power (log)  AR Power (ms2)  AR Power (log)  \\\n",
       "0         0.132235         0.500822        0.165557        0.512768   \n",
       "1         0.035240         0.242456        0.034835        0.201518   \n",
       "2         0.074625         0.378388        0.090790        0.374792   \n",
       "3         0.499659         0.822063        0.564615        0.837768   \n",
       "4         0.624396         0.878759        0.738653        0.913482   \n",
       "\n",
       "   FFT Power (ms2).1  FFT Power (log).1  AR Power (ms2).1  AR Power (log).1  \n",
       "0           0.127212           0.496554          0.131694          0.464713  \n",
       "1           0.043601           0.282342          0.033964          0.203628  \n",
       "2           0.296988           0.695176          0.460174          0.784250  \n",
       "3           0.415075           0.777586          0.428201          0.764708  \n",
       "4           0.339969           0.728271          0.363281          0.720483  "
      ]
     },
     "execution_count": 118,
     "metadata": {},
     "output_type": "execute_result"
    }
   ],
   "source": [
    "from sklearn.preprocessing import MinMaxScaler\n",
    "scaler = MinMaxScaler()\n",
    "scaler.fit(X)\n",
    "X_ = scaler.transform(X)\n",
    "X = pd.DataFrame(data=X_, columns = X.columns)\n",
    "X.head()"
   ]
  },
  {
   "cell_type": "code",
   "execution_count": 119,
   "metadata": {},
   "outputs": [
    {
     "data": {
      "text/html": [
       "<div>\n",
       "<style scoped>\n",
       "    .dataframe tbody tr th:only-of-type {\n",
       "        vertical-align: middle;\n",
       "    }\n",
       "\n",
       "    .dataframe tbody tr th {\n",
       "        vertical-align: top;\n",
       "    }\n",
       "\n",
       "    .dataframe thead th {\n",
       "        text-align: right;\n",
       "    }\n",
       "</style>\n",
       "<table border=\"1\" class=\"dataframe\">\n",
       "  <thead>\n",
       "    <tr style=\"text-align: right;\">\n",
       "      <th></th>\n",
       "      <th>Mean RR*</th>\n",
       "      <th>STD RR (SDNN)</th>\n",
       "      <th>Mean HR*</th>\n",
       "      <th>Min HR</th>\n",
       "      <th>RMSSD</th>\n",
       "      <th>NNxx</th>\n",
       "      <th>pNNxx</th>\n",
       "      <th>HRV triangular index</th>\n",
       "      <th>TINN</th>\n",
       "      <th>Poincare plot, SD1</th>\n",
       "      <th>Poincare plot, SD2</th>\n",
       "      <th>FFT Power (ms2)</th>\n",
       "      <th>FFT Power (log)</th>\n",
       "      <th>AR Power (ms2)</th>\n",
       "      <th>AR Power (log)</th>\n",
       "      <th>FFT Power (ms2).1</th>\n",
       "      <th>FFT Power (log).1</th>\n",
       "      <th>AR Power (ms2).1</th>\n",
       "      <th>AR Power (log).1</th>\n",
       "    </tr>\n",
       "  </thead>\n",
       "  <tbody>\n",
       "    <tr>\n",
       "      <td>60</td>\n",
       "      <td>0.361705</td>\n",
       "      <td>0.296852</td>\n",
       "      <td>0.512655</td>\n",
       "      <td>0.484396</td>\n",
       "      <td>0.254606</td>\n",
       "      <td>0.115152</td>\n",
       "      <td>0.107340</td>\n",
       "      <td>0.403438</td>\n",
       "      <td>0.309735</td>\n",
       "      <td>0.239167</td>\n",
       "      <td>0.303639</td>\n",
       "      <td>0.170922</td>\n",
       "      <td>0.559613</td>\n",
       "      <td>0.201293</td>\n",
       "      <td>0.561369</td>\n",
       "      <td>0.145348</td>\n",
       "      <td>0.526531</td>\n",
       "      <td>0.139310</td>\n",
       "      <td>0.477858</td>\n",
       "    </tr>\n",
       "    <tr>\n",
       "      <td>43</td>\n",
       "      <td>0.733384</td>\n",
       "      <td>0.620010</td>\n",
       "      <td>0.178121</td>\n",
       "      <td>0.095184</td>\n",
       "      <td>0.578075</td>\n",
       "      <td>0.454545</td>\n",
       "      <td>0.503324</td>\n",
       "      <td>0.515957</td>\n",
       "      <td>0.818584</td>\n",
       "      <td>0.578046</td>\n",
       "      <td>0.622961</td>\n",
       "      <td>0.308615</td>\n",
       "      <td>0.701565</td>\n",
       "      <td>0.487876</td>\n",
       "      <td>0.797083</td>\n",
       "      <td>0.373486</td>\n",
       "      <td>0.751435</td>\n",
       "      <td>0.375404</td>\n",
       "      <td>0.729246</td>\n",
       "    </tr>\n",
       "    <tr>\n",
       "      <td>6</td>\n",
       "      <td>0.588296</td>\n",
       "      <td>0.554209</td>\n",
       "      <td>0.294374</td>\n",
       "      <td>0.235778</td>\n",
       "      <td>0.546844</td>\n",
       "      <td>0.363636</td>\n",
       "      <td>0.367785</td>\n",
       "      <td>0.318064</td>\n",
       "      <td>0.743363</td>\n",
       "      <td>0.546798</td>\n",
       "      <td>0.554407</td>\n",
       "      <td>0.328287</td>\n",
       "      <td>0.716839</td>\n",
       "      <td>0.395181</td>\n",
       "      <td>0.739107</td>\n",
       "      <td>0.442022</td>\n",
       "      <td>0.793255</td>\n",
       "      <td>0.406905</td>\n",
       "      <td>0.750920</td>\n",
       "    </tr>\n",
       "    <tr>\n",
       "      <td>37</td>\n",
       "      <td>0.401968</td>\n",
       "      <td>0.308369</td>\n",
       "      <td>0.470048</td>\n",
       "      <td>0.205959</td>\n",
       "      <td>0.348407</td>\n",
       "      <td>0.260606</td>\n",
       "      <td>0.239728</td>\n",
       "      <td>0.380414</td>\n",
       "      <td>0.256637</td>\n",
       "      <td>0.348361</td>\n",
       "      <td>0.306376</td>\n",
       "      <td>0.158274</td>\n",
       "      <td>0.541793</td>\n",
       "      <td>0.195447</td>\n",
       "      <td>0.553929</td>\n",
       "      <td>0.228190</td>\n",
       "      <td>0.631633</td>\n",
       "      <td>0.207333</td>\n",
       "      <td>0.574721</td>\n",
       "    </tr>\n",
       "    <tr>\n",
       "      <td>11</td>\n",
       "      <td>0.710694</td>\n",
       "      <td>0.751187</td>\n",
       "      <td>0.195280</td>\n",
       "      <td>0.180111</td>\n",
       "      <td>0.729721</td>\n",
       "      <td>0.769697</td>\n",
       "      <td>0.855163</td>\n",
       "      <td>0.811637</td>\n",
       "      <td>0.606195</td>\n",
       "      <td>0.729662</td>\n",
       "      <td>0.749399</td>\n",
       "      <td>0.698587</td>\n",
       "      <td>0.907505</td>\n",
       "      <td>0.651205</td>\n",
       "      <td>0.877827</td>\n",
       "      <td>0.628729</td>\n",
       "      <td>0.881797</td>\n",
       "      <td>0.544236</td>\n",
       "      <td>0.830169</td>\n",
       "    </tr>\n",
       "  </tbody>\n",
       "</table>\n",
       "</div>"
      ],
      "text/plain": [
       "    Mean RR*  STD RR (SDNN)  Mean HR*    Min HR     RMSSD      NNxx     pNNxx  \\\n",
       "60  0.361705       0.296852  0.512655  0.484396  0.254606  0.115152  0.107340   \n",
       "43  0.733384       0.620010  0.178121  0.095184  0.578075  0.454545  0.503324   \n",
       "6   0.588296       0.554209  0.294374  0.235778  0.546844  0.363636  0.367785   \n",
       "37  0.401968       0.308369  0.470048  0.205959  0.348407  0.260606  0.239728   \n",
       "11  0.710694       0.751187  0.195280  0.180111  0.729721  0.769697  0.855163   \n",
       "\n",
       "    HRV triangular index      TINN  Poincare plot, SD1  Poincare plot, SD2  \\\n",
       "60              0.403438  0.309735            0.239167            0.303639   \n",
       "43              0.515957  0.818584            0.578046            0.622961   \n",
       "6               0.318064  0.743363            0.546798            0.554407   \n",
       "37              0.380414  0.256637            0.348361            0.306376   \n",
       "11              0.811637  0.606195            0.729662            0.749399   \n",
       "\n",
       "    FFT Power (ms2)  FFT Power (log)  AR Power (ms2)  AR Power (log)  \\\n",
       "60         0.170922         0.559613        0.201293        0.561369   \n",
       "43         0.308615         0.701565        0.487876        0.797083   \n",
       "6          0.328287         0.716839        0.395181        0.739107   \n",
       "37         0.158274         0.541793        0.195447        0.553929   \n",
       "11         0.698587         0.907505        0.651205        0.877827   \n",
       "\n",
       "    FFT Power (ms2).1  FFT Power (log).1  AR Power (ms2).1  AR Power (log).1  \n",
       "60           0.145348           0.526531          0.139310          0.477858  \n",
       "43           0.373486           0.751435          0.375404          0.729246  \n",
       "6            0.442022           0.793255          0.406905          0.750920  \n",
       "37           0.228190           0.631633          0.207333          0.574721  \n",
       "11           0.628729           0.881797          0.544236          0.830169  "
      ]
     },
     "execution_count": 119,
     "metadata": {},
     "output_type": "execute_result"
    }
   ],
   "source": [
    "xtrain.head()"
   ]
  },
  {
   "cell_type": "code",
   "execution_count": 120,
   "metadata": {},
   "outputs": [
    {
     "data": {
      "text/html": [
       "<div>\n",
       "<style scoped>\n",
       "    .dataframe tbody tr th:only-of-type {\n",
       "        vertical-align: middle;\n",
       "    }\n",
       "\n",
       "    .dataframe tbody tr th {\n",
       "        vertical-align: top;\n",
       "    }\n",
       "\n",
       "    .dataframe thead th {\n",
       "        text-align: right;\n",
       "    }\n",
       "</style>\n",
       "<table border=\"1\" class=\"dataframe\">\n",
       "  <thead>\n",
       "    <tr style=\"text-align: right;\">\n",
       "      <th></th>\n",
       "      <th>Class</th>\n",
       "    </tr>\n",
       "  </thead>\n",
       "  <tbody>\n",
       "    <tr>\n",
       "      <td>60</td>\n",
       "      <td>1</td>\n",
       "    </tr>\n",
       "    <tr>\n",
       "      <td>43</td>\n",
       "      <td>1</td>\n",
       "    </tr>\n",
       "    <tr>\n",
       "      <td>6</td>\n",
       "      <td>0</td>\n",
       "    </tr>\n",
       "    <tr>\n",
       "      <td>37</td>\n",
       "      <td>1</td>\n",
       "    </tr>\n",
       "    <tr>\n",
       "      <td>11</td>\n",
       "      <td>0</td>\n",
       "    </tr>\n",
       "  </tbody>\n",
       "</table>\n",
       "</div>"
      ],
      "text/plain": [
       "    Class\n",
       "60      1\n",
       "43      1\n",
       "6       0\n",
       "37      1\n",
       "11      0"
      ]
     },
     "execution_count": 120,
     "metadata": {},
     "output_type": "execute_result"
    }
   ],
   "source": [
    "ytrain.head()"
   ]
  },
  {
   "cell_type": "code",
   "execution_count": 121,
   "metadata": {},
   "outputs": [],
   "source": [
    "from sklearn.linear_model import LogisticRegression"
   ]
  },
  {
   "cell_type": "code",
   "execution_count": 122,
   "metadata": {},
   "outputs": [],
   "source": [
    "lr_model = LogisticRegression(random_state=25)"
   ]
  },
  {
   "cell_type": "code",
   "execution_count": 123,
   "metadata": {},
   "outputs": [
    {
     "name": "stderr",
     "output_type": "stream",
     "text": [
      "C:\\Users\\furqa\\AppData\\Local\\Continuum\\anaconda3\\lib\\site-packages\\sklearn\\linear_model\\logistic.py:432: FutureWarning: Default solver will be changed to 'lbfgs' in 0.22. Specify a solver to silence this warning.\n",
      "  FutureWarning)\n",
      "C:\\Users\\furqa\\AppData\\Local\\Continuum\\anaconda3\\lib\\site-packages\\sklearn\\utils\\validation.py:724: DataConversionWarning: A column-vector y was passed when a 1d array was expected. Please change the shape of y to (n_samples, ), for example using ravel().\n",
      "  y = column_or_1d(y, warn=True)\n"
     ]
    },
    {
     "data": {
      "text/plain": [
       "LogisticRegression(C=1.0, class_weight=None, dual=False, fit_intercept=True,\n",
       "                   intercept_scaling=1, l1_ratio=None, max_iter=100,\n",
       "                   multi_class='warn', n_jobs=None, penalty='l2',\n",
       "                   random_state=25, solver='warn', tol=0.0001, verbose=0,\n",
       "                   warm_start=False)"
      ]
     },
     "execution_count": 123,
     "metadata": {},
     "output_type": "execute_result"
    }
   ],
   "source": [
    "lr_model.fit(xtrain, ytrain)"
   ]
  },
  {
   "cell_type": "code",
   "execution_count": 124,
   "metadata": {},
   "outputs": [],
   "source": [
    "pred = lr_model.predict(xtest)"
   ]
  },
  {
   "cell_type": "code",
   "execution_count": 125,
   "metadata": {},
   "outputs": [
    {
     "data": {
      "text/plain": [
       "0.631578947368421"
      ]
     },
     "execution_count": 125,
     "metadata": {},
     "output_type": "execute_result"
    }
   ],
   "source": [
    "from sklearn.metrics import accuracy_score\n",
    "accuracy_lr = accuracy_score(ytest, pred)\n",
    "accuracy_lr"
   ]
  },
  {
   "cell_type": "code",
   "execution_count": 127,
   "metadata": {},
   "outputs": [],
   "source": [
    "from sklearn.model_selection import cross_val_score"
   ]
  },
  {
   "cell_type": "code",
   "execution_count": 154,
   "metadata": {},
   "outputs": [
    {
     "name": "stderr",
     "output_type": "stream",
     "text": [
      "C:\\Users\\furqa\\AppData\\Local\\Continuum\\anaconda3\\lib\\site-packages\\sklearn\\linear_model\\logistic.py:432: FutureWarning: Default solver will be changed to 'lbfgs' in 0.22. Specify a solver to silence this warning.\n",
      "  FutureWarning)\n",
      "C:\\Users\\furqa\\AppData\\Local\\Continuum\\anaconda3\\lib\\site-packages\\sklearn\\utils\\validation.py:724: DataConversionWarning: A column-vector y was passed when a 1d array was expected. Please change the shape of y to (n_samples, ), for example using ravel().\n",
      "  y = column_or_1d(y, warn=True)\n",
      "C:\\Users\\furqa\\AppData\\Local\\Continuum\\anaconda3\\lib\\site-packages\\sklearn\\linear_model\\logistic.py:432: FutureWarning: Default solver will be changed to 'lbfgs' in 0.22. Specify a solver to silence this warning.\n",
      "  FutureWarning)\n",
      "C:\\Users\\furqa\\AppData\\Local\\Continuum\\anaconda3\\lib\\site-packages\\sklearn\\utils\\validation.py:724: DataConversionWarning: A column-vector y was passed when a 1d array was expected. Please change the shape of y to (n_samples, ), for example using ravel().\n",
      "  y = column_or_1d(y, warn=True)\n",
      "C:\\Users\\furqa\\AppData\\Local\\Continuum\\anaconda3\\lib\\site-packages\\sklearn\\linear_model\\logistic.py:432: FutureWarning: Default solver will be changed to 'lbfgs' in 0.22. Specify a solver to silence this warning.\n",
      "  FutureWarning)\n",
      "C:\\Users\\furqa\\AppData\\Local\\Continuum\\anaconda3\\lib\\site-packages\\sklearn\\utils\\validation.py:724: DataConversionWarning: A column-vector y was passed when a 1d array was expected. Please change the shape of y to (n_samples, ), for example using ravel().\n",
      "  y = column_or_1d(y, warn=True)\n",
      "C:\\Users\\furqa\\AppData\\Local\\Continuum\\anaconda3\\lib\\site-packages\\sklearn\\linear_model\\logistic.py:432: FutureWarning: Default solver will be changed to 'lbfgs' in 0.22. Specify a solver to silence this warning.\n",
      "  FutureWarning)\n",
      "C:\\Users\\furqa\\AppData\\Local\\Continuum\\anaconda3\\lib\\site-packages\\sklearn\\utils\\validation.py:724: DataConversionWarning: A column-vector y was passed when a 1d array was expected. Please change the shape of y to (n_samples, ), for example using ravel().\n",
      "  y = column_or_1d(y, warn=True)\n",
      "C:\\Users\\furqa\\AppData\\Local\\Continuum\\anaconda3\\lib\\site-packages\\sklearn\\linear_model\\logistic.py:432: FutureWarning: Default solver will be changed to 'lbfgs' in 0.22. Specify a solver to silence this warning.\n",
      "  FutureWarning)\n",
      "C:\\Users\\furqa\\AppData\\Local\\Continuum\\anaconda3\\lib\\site-packages\\sklearn\\utils\\validation.py:724: DataConversionWarning: A column-vector y was passed when a 1d array was expected. Please change the shape of y to (n_samples, ), for example using ravel().\n",
      "  y = column_or_1d(y, warn=True)\n"
     ]
    }
   ],
   "source": [
    "scores = cross_val_score(lr_model, xtrain, ytrain, cv=5)"
   ]
  },
  {
   "cell_type": "code",
   "execution_count": 155,
   "metadata": {},
   "outputs": [
    {
     "data": {
      "text/plain": [
       "array([0.33333333, 0.66666667, 0.77777778, 0.5       , 0.75      ])"
      ]
     },
     "execution_count": 155,
     "metadata": {},
     "output_type": "execute_result"
    }
   ],
   "source": [
    "scores"
   ]
  },
  {
   "cell_type": "code",
   "execution_count": 156,
   "metadata": {},
   "outputs": [
    {
     "data": {
      "text/plain": [
       "0.6055555555555555"
      ]
     },
     "execution_count": 156,
     "metadata": {},
     "output_type": "execute_result"
    }
   ],
   "source": [
    "scores.mean()"
   ]
  },
  {
   "cell_type": "code",
   "execution_count": null,
   "metadata": {},
   "outputs": [],
   "source": []
  },
  {
   "cell_type": "code",
   "execution_count": null,
   "metadata": {},
   "outputs": [],
   "source": []
  },
  {
   "cell_type": "code",
   "execution_count": null,
   "metadata": {},
   "outputs": [],
   "source": []
  },
  {
   "cell_type": "code",
   "execution_count": null,
   "metadata": {},
   "outputs": [],
   "source": []
  },
  {
   "cell_type": "code",
   "execution_count": null,
   "metadata": {},
   "outputs": [],
   "source": []
  },
  {
   "cell_type": "code",
   "execution_count": 19,
   "metadata": {},
   "outputs": [],
   "source": [
    "from sklearn.metrics import confusion_matrix"
   ]
  },
  {
   "cell_type": "code",
   "execution_count": 20,
   "metadata": {},
   "outputs": [
    {
     "data": {
      "text/plain": [
       "array([[7, 1],\n",
       "       [5, 6]], dtype=int64)"
      ]
     },
     "execution_count": 20,
     "metadata": {},
     "output_type": "execute_result"
    }
   ],
   "source": [
    "confusion_matrix(ytest, pred)"
   ]
  },
  {
   "cell_type": "code",
   "execution_count": 21,
   "metadata": {},
   "outputs": [
    {
     "data": {
      "text/plain": [
       "array([7, 1, 5, 6], dtype=int64)"
      ]
     },
     "execution_count": 21,
     "metadata": {},
     "output_type": "execute_result"
    }
   ],
   "source": [
    "confusion_matrix(ytest, pred).ravel()"
   ]
  },
  {
   "cell_type": "code",
   "execution_count": 22,
   "metadata": {},
   "outputs": [
    {
     "data": {
      "text/html": [
       "<div>\n",
       "<style scoped>\n",
       "    .dataframe tbody tr th:only-of-type {\n",
       "        vertical-align: middle;\n",
       "    }\n",
       "\n",
       "    .dataframe tbody tr th {\n",
       "        vertical-align: top;\n",
       "    }\n",
       "\n",
       "    .dataframe thead th {\n",
       "        text-align: right;\n",
       "    }\n",
       "</style>\n",
       "<table border=\"1\" class=\"dataframe\">\n",
       "  <thead>\n",
       "    <tr style=\"text-align: right;\">\n",
       "      <th></th>\n",
       "      <th>pred_have stress</th>\n",
       "      <th>pred_Not stress</th>\n",
       "    </tr>\n",
       "  </thead>\n",
       "  <tbody>\n",
       "    <tr>\n",
       "      <td>have stress</td>\n",
       "      <td>6</td>\n",
       "      <td>5</td>\n",
       "    </tr>\n",
       "    <tr>\n",
       "      <td>Not Stress</td>\n",
       "      <td>1</td>\n",
       "      <td>7</td>\n",
       "    </tr>\n",
       "  </tbody>\n",
       "</table>\n",
       "</div>"
      ],
      "text/plain": [
       "              pred_have stress  pred_Not stress\n",
       " have stress                 6                5\n",
       "Not Stress                   1                7"
      ]
     },
     "execution_count": 22,
     "metadata": {},
     "output_type": "execute_result"
    }
   ],
   "source": [
    "tn, fp, fn, tp = confusion_matrix(ytest, pred).ravel()\n",
    "conf_matrix=pd.DataFrame({\"pred_have stress\":[tp,fp],\"pred_Not stress\":[fn,tn]},index=[\" have stress\",\"Not Stress\"])\n",
    "conf_matrix"
   ]
  },
  {
   "cell_type": "code",
   "execution_count": 23,
   "metadata": {},
   "outputs": [],
   "source": [
    "from sklearn.metrics import precision_score"
   ]
  },
  {
   "cell_type": "code",
   "execution_count": 152,
   "metadata": {},
   "outputs": [
    {
     "name": "stdout",
     "output_type": "stream",
     "text": [
      "Accuracy: 0.6842105263157895\n"
     ]
    }
   ],
   "source": [
    "accuracy = (tp + tn) / (tp + fp + tn + fn)\n",
    "print(\"Accuracy: {}\".format(accuracy))"
   ]
  },
  {
   "cell_type": "code",
   "execution_count": 153,
   "metadata": {},
   "outputs": [
    {
     "name": "stdout",
     "output_type": "stream",
     "text": [
      "Accuracy by built-in function: 0.631578947368421\n"
     ]
    }
   ],
   "source": [
    "accuracy_lr = accuracy_score(ytest,pred)\n",
    "print(\"Accuracy by built-in function: {}\".format(accuracy_lr))"
   ]
  },
  {
   "cell_type": "code",
   "execution_count": null,
   "metadata": {},
   "outputs": [],
   "source": []
  },
  {
   "cell_type": "code",
   "execution_count": null,
   "metadata": {},
   "outputs": [],
   "source": []
  },
  {
   "cell_type": "code",
   "execution_count": null,
   "metadata": {},
   "outputs": [],
   "source": []
  },
  {
   "cell_type": "code",
   "execution_count": null,
   "metadata": {},
   "outputs": [],
   "source": []
  },
  {
   "cell_type": "code",
   "execution_count": null,
   "metadata": {},
   "outputs": [],
   "source": []
  },
  {
   "cell_type": "code",
   "execution_count": null,
   "metadata": {},
   "outputs": [],
   "source": []
  },
  {
   "cell_type": "code",
   "execution_count": null,
   "metadata": {},
   "outputs": [],
   "source": []
  },
  {
   "cell_type": "code",
   "execution_count": null,
   "metadata": {},
   "outputs": [],
   "source": []
  }
 ],
 "metadata": {
  "kernelspec": {
   "display_name": "Python 3",
   "language": "python",
   "name": "python3"
  },
  "language_info": {
   "codemirror_mode": {
    "name": "ipython",
    "version": 3
   },
   "file_extension": ".py",
   "mimetype": "text/x-python",
   "name": "python",
   "nbconvert_exporter": "python",
   "pygments_lexer": "ipython3",
   "version": "3.7.4"
  }
 },
 "nbformat": 4,
 "nbformat_minor": 2
}
